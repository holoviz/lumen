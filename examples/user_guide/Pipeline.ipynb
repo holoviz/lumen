{
 "cells": [
  {
   "cell_type": "code",
   "execution_count": null,
   "id": "56aee346-4362-49f8-b630-b09901aa2f80",
   "metadata": {},
   "outputs": [],
   "source": [
    "import lumen\n",
    "import panel as pn\n",
    "\n",
    "pn.extension('tabulator', template='fast')"
   ]
  },
  {
   "cell_type": "markdown",
   "id": "61a6f35d-dabb-4100-861e-136e7e5d0dbf",
   "metadata": {},
   "source": [
    "Lumen dashboards are a powerful, declarative way to write data-driven applications and dashboards. However Lumen components also provide a powerful \n",
    "abstraction that can be leveraged independently of a full dashboard YAML specification. Specifically the `Pipeline` component offers an extremely powerful basis for building data transformations that can either be used to power analysis pipelines or to drive visual components we can render in a notebook or a custom Panel dashboard. In this section we will discover how to leverage pipelines in this way.\n",
    "\n",
    "First however we need to understand how Pipelines work, specifically the order in which operations are applied. In particular we need to distinguish between operations that are applied by the `Source` and operations that are applied to **data** returned by the `Source`. This is because various `Source` types support data queries and in the case of SQL based `Source` may also support arbitrary SQL transforms. This means that the `Pipeline` will first call the `Source.get` method with state of the `Filter` and `SQLTransform` components allowing the `Source` to optimize the filter queries and transforms and return the data, once the data is returned as a `DataFrame` the declared `Transform` stages will be applied in sequence.\n",
    "\n",
    "![Pipeline Diagram](../_static/pipeline_diagram.png)"
   ]
  },
  {
   "cell_type": "markdown",
   "id": "89555502-f97d-4aab-a001-d7fd7150d914",
   "metadata": {},
   "source": [
    "## Declaring a pipeline\n",
    "\n",
    "Just like any other component in Lumen `Pipeline` components can be built using a declarative specification. Let us for example build a `Pipeline` that starts with a `FileSource` and applies a number of filters and transforms."
   ]
  },
  {
   "cell_type": "code",
   "execution_count": null,
   "id": "0e2abd32-4b1b-424d-8f34-af0750f31b1f",
   "metadata": {},
   "outputs": [],
   "source": [
    "from lumen.pipeline import Pipeline\n",
    "\n",
    "data_url = 'https://raw.githubusercontent.com/rfordatascience/tidytuesday/master/data/2020/2020-07-28/penguins.csv'\n",
    "\n",
    "pipeline = Pipeline.from_spec({\n",
    "    'source': {\n",
    "        'type': 'file',\n",
    "        'tables': {\n",
    "            'penguins': data_url\n",
    "        }\n",
    "    },\n",
    "    'filters': [\n",
    "        {'type': 'widget', 'field': 'species'},\n",
    "        {'type': 'widget', 'field': 'island'},\n",
    "        {'type': 'widget', 'field': 'sex'},\n",
    "        {'type': 'widget', 'field': 'year'}\n",
    "    ],\n",
    "    'transforms': [\n",
    "        {'type': 'aggregate', 'method': 'mean', 'by': ['species', 'sex', 'year']}\n",
    "    ]\n",
    "})"
   ]
  },
  {
   "cell_type": "markdown",
   "id": "300a8551-25f4-4d16-a00b-8932ad95f2c2",
   "metadata": {},
   "source": [
    "Once declared we can inspect the current `data` easily:"
   ]
  },
  {
   "cell_type": "code",
   "execution_count": null,
   "id": "6b7c9df0-55c0-492b-94d8-a95c2f032379",
   "metadata": {},
   "outputs": [],
   "source": [
    "pipeline.data"
   ]
  },
  {
   "cell_type": "markdown",
   "id": "5854316b-e0e0-4589-87c1-33e7344454c5",
   "metadata": {},
   "source": [
    "Note that a `Pipeline` updates dynamically if any `Source`, `Filter` or `Transform` is changed or updated. In the pipeline above we declared 'widget' filters which we can render by accessing the `control_panel` property. To view the dynamically updating data can instantiate a `lumen.views.Table` component. In a live notebook we will now get an interactive application letting us dynamically filter the data and view the result."
   ]
  },
  {
   "cell_type": "code",
   "execution_count": null,
   "id": "5df2df02-4a6b-4d5a-a61c-546e702b07eb",
   "metadata": {},
   "outputs": [],
   "source": [
    "from lumen.views import Table\n",
    "\n",
    "pn.Row(pipeline.control_panel, Table(pipeline=pipeline, pagination='remote'))"
   ]
  },
  {
   "cell_type": "markdown",
   "id": "0ded1847-7972-4a43-b34c-8137e537f0e4",
   "metadata": {},
   "source": [
    "Note that instead of using Lumen views we can also use the `panel.bind` function to bind the `data` parameter to some object or function, e.g. here we bind the data to a `DataFrame` pane:"
   ]
  },
  {
   "cell_type": "code",
   "execution_count": null,
   "id": "b6659da7-531d-4d64-8b80-7c5e4c79d4d8",
   "metadata": {},
   "outputs": [],
   "source": [
    "pn.Row(\n",
    "    pipeline.control_panel,\n",
    "    pn.bind(pn.pane.DataFrame, pipeline.param.data, width=800)\n",
    ")"
   ]
  },
  {
   "cell_type": "markdown",
   "id": "f1ca2c11-7e0e-4be8-91e6-2f87fa793968",
   "metadata": {},
   "source": [
    "### Programmatically building pipelines\n",
    "\n",
    "A `Pipeline` does not have to be built using the declarative specification, instead we can programmatically build the same pipeline:"
   ]
  },
  {
   "cell_type": "code",
   "execution_count": null,
   "id": "c6120dd5-c6ef-476f-8543-41eab721ed4a",
   "metadata": {},
   "outputs": [],
   "source": [
    "from lumen.sources import FileSource\n",
    "\n",
    "pipeline = Pipeline(source=FileSource(tables={'penguins': data_url}), table='penguins')\n",
    "\n",
    "# Filters\n",
    "pipeline.add_filter('widget', field='species')\n",
    "pipeline.add_filter('widget', field='island')\n",
    "pipeline.add_filter('widget', field='sex')\n",
    "pipeline.add_filter('widget', field='year')\n",
    "\n",
    "pipeline.data"
   ]
  },
  {
   "cell_type": "markdown",
   "id": "b6d7f8e9-f146-4658-9222-1236c93763bf",
   "metadata": {},
   "source": [
    "### Chaining pipelines\n",
    "\n",
    "In some cases you will want to build branching pipelines, e.g. in an initial stage you filter the data and display it and in another stage you aggregate your data."
   ]
  },
  {
   "cell_type": "code",
   "execution_count": null,
   "id": "23908939-1e05-48b0-8840-bd2a0c114fad",
   "metadata": {},
   "outputs": [],
   "source": [
    "from lumen.transforms import Aggregate\n",
    "\n",
    "agg_pipeline = pipeline.chain(transforms=[Aggregate(method='mean', by=['species', 'year'])])\n",
    "\n",
    "agg_pipeline.data"
   ]
  },
  {
   "cell_type": "markdown",
   "id": "e8222d98-ddfe-4e7e-9b24-131fe2204487",
   "metadata": {},
   "source": [
    "By chaining the `Pipeline` we can share computations between different stages, i.e. the filtering step still occurs in the first stage."
   ]
  },
  {
   "cell_type": "markdown",
   "id": "a8b0659b-9b67-44fd-8c83-a9c6ed5b0408",
   "metadata": {},
   "source": [
    "## Building a dashboard\n",
    "\n",
    "One of the major benefits of the `Pipeline` architecture is that it allows Lumen components to be used outside of the context of a Lumen application. This makes it possible to build custom dashboards while still leveraging the power of all Lumen components. Let us compose a simple dashboard application driven by the pipeline we defined above."
   ]
  },
  {
   "cell_type": "code",
   "execution_count": null,
   "id": "73630de4-aba3-4c65-97a0-f5f45b4db258",
   "metadata": {},
   "outputs": [],
   "source": [
    "from lumen.views import hvPlotUIView\n",
    "\n",
    "pn.Row(\n",
    "    pipeline.control_panel.servable(area='sidebar'),\n",
    "    pn.Tabs(\n",
    "        ('Plot', hvPlotUIView(pipeline=pipeline, kind='scatter', x='bill_length_mm', y='bill_depth_mm', by='species')),\n",
    "        ('Table', Table(pipeline=agg_pipeline))\n",
    "    ).servable()\n",
    ")"
   ]
  }
 ],
 "metadata": {
  "kernelspec": {
   "display_name": "Python 3 (ipykernel)",
   "language": "python",
   "name": "python3"
  },
  "language_info": {
   "codemirror_mode": {
    "name": "ipython",
    "version": 3
   },
   "file_extension": ".py",
   "mimetype": "text/x-python",
   "name": "python",
   "nbconvert_exporter": "python",
   "pygments_lexer": "ipython3",
   "version": "3.9.12"
  },
  "widgets": {
   "application/vnd.jupyter.widget-state+json": {
    "state": {},
    "version_major": 2,
    "version_minor": 0
   }
  }
 },
 "nbformat": 4,
 "nbformat_minor": 5
}
